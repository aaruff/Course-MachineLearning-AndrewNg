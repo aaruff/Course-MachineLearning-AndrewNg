{
 "cells": [
  {
   "cell_type": "markdown",
   "metadata": {},
   "source": [
    "## Machine Learning: Using the Normal Equation for Linear Regression\n",
    "\n",
    "In this section I will go through implementing the normal equation to find the thetas that provide the best fit to the training data. \n",
    "\n",
    "##$$ \\theta = (X^T X)^{-1}X^T \\vec{y} $$\n",
    "\n",
    "My primary aim in this tutorial is to illustrate how to implement the normal equation with [numpy](http://www.numpy.org) and [pandas](http://pandas.pydata.org). In order to avoid getting bogged down with managing complex data I have purposefully chosen to use a simple data set."
   ]
  },
  {
   "cell_type": "code",
   "execution_count": 159,
   "metadata": {
    "collapsed": false
   },
   "outputs": [],
   "source": [
    "import numpy as np\n",
    "import pandas as pd\n",
    "import seaborn as sns\n",
    "import matplotlib.pyplot as plt"
   ]
  },
  {
   "cell_type": "markdown",
   "metadata": {},
   "source": [
    "### Getting and organizing the data\n",
    "\n",
    "First we need to initialize the training set, and place it in a pandas [DataFrame](http://www.gregreda.com/2013/10/26/working-with-pandas-dataframes/). In this case we have 3 examples, each with one feature **x0**, and a corresponding target **y**. \n",
    "\n",
    "If you want to read from a data file instead, [Pandas support IO for a wide collection of file types](http://pandas.pydata.org/pandas-docs/stable/io.html).\n"
   ]
  },
  {
   "cell_type": "code",
   "execution_count": 160,
   "metadata": {
    "collapsed": false
   },
   "outputs": [
    {
     "data": {
      "text/html": [
       "<div style=\"max-height:1000px;max-width:1500px;overflow:auto;\">\n",
       "<table border=\"1\" class=\"dataframe\">\n",
       "  <thead>\n",
       "    <tr style=\"text-align: right;\">\n",
       "      <th></th>\n",
       "      <th>x1</th>\n",
       "      <th>y</th>\n",
       "    </tr>\n",
       "  </thead>\n",
       "  <tbody>\n",
       "    <tr>\n",
       "      <th>0</th>\n",
       "      <td>1</td>\n",
       "      <td>1</td>\n",
       "    </tr>\n",
       "    <tr>\n",
       "      <th>1</th>\n",
       "      <td>2</td>\n",
       "      <td>2</td>\n",
       "    </tr>\n",
       "    <tr>\n",
       "      <th>2</th>\n",
       "      <td>4</td>\n",
       "      <td>4</td>\n",
       "    </tr>\n",
       "  </tbody>\n",
       "</table>\n",
       "</div>"
      ],
      "text/plain": [
       "   x1  y\n",
       "0   1  1\n",
       "1   2  2\n",
       "2   4  4"
      ]
     },
     "execution_count": 160,
     "metadata": {},
     "output_type": "execute_result"
    }
   ],
   "source": [
    "trainingData = pd.DataFrame(data=[[1,1], [2,2], [4,4]], columns=['x1', 'y'])\n",
    "trainingData"
   ]
  },
  {
   "cell_type": "markdown",
   "metadata": {},
   "source": [
    "Next we append the column of 1's (x0) to matrix using the [numpy ones function](http://docs.scipy.org/doc/numpy/reference/generated/numpy.ones.html), and the pandas [column insert](http://pandas.pydata.org/pandas-docs/dev/generated/pandas.DataFrame.insert.html). "
   ]
  },
  {
   "cell_type": "code",
   "execution_count": 161,
   "metadata": {
    "collapsed": false
   },
   "outputs": [
    {
     "data": {
      "text/html": [
       "<div style=\"max-height:1000px;max-width:1500px;overflow:auto;\">\n",
       "<table border=\"1\" class=\"dataframe\">\n",
       "  <thead>\n",
       "    <tr style=\"text-align: right;\">\n",
       "      <th></th>\n",
       "      <th>x0</th>\n",
       "      <th>x1</th>\n",
       "      <th>y</th>\n",
       "    </tr>\n",
       "  </thead>\n",
       "  <tbody>\n",
       "    <tr>\n",
       "      <th>0</th>\n",
       "      <td>1</td>\n",
       "      <td>1</td>\n",
       "      <td>1</td>\n",
       "    </tr>\n",
       "    <tr>\n",
       "      <th>1</th>\n",
       "      <td>1</td>\n",
       "      <td>2</td>\n",
       "      <td>2</td>\n",
       "    </tr>\n",
       "    <tr>\n",
       "      <th>2</th>\n",
       "      <td>1</td>\n",
       "      <td>4</td>\n",
       "      <td>4</td>\n",
       "    </tr>\n",
       "  </tbody>\n",
       "</table>\n",
       "</div>"
      ],
      "text/plain": [
       "   x0  x1  y\n",
       "0   1   1  1\n",
       "1   1   2  2\n",
       "2   1   4  4"
      ]
     },
     "execution_count": 161,
     "metadata": {},
     "output_type": "execute_result"
    }
   ],
   "source": [
    "trainingData.insert(0, 'x0', np.ones(3))\n",
    "trainingData"
   ]
  },
  {
   "cell_type": "markdown",
   "metadata": {},
   "source": [
    "Now that we have the data lets plot ([using seaborn](https://web.stanford.edu/~mwaskom/software/seaborn/examples/index.html)) it to get some intuition for what hypothesis function might be."
   ]
  },
  {
   "cell_type": "code",
   "execution_count": 188,
   "metadata": {
    "collapsed": false
   },
   "outputs": [
    {
     "data": {
      "image/png": "[encoded data removed]",
      "text/plain": [
       "<matplotlib.figure.Figure at 0x11c6162b0>"
      ]
     },
     "metadata": {},
     "output_type": "display_data"
    }
   ],
   "source": [
    "with sns.axes_style(\"darkgrid\"):\n",
    "    fig, ax = plt.subplots()\n",
    "    ax.plot(trainingData['x1'], trainingData['y'], 'o', label='Data')\n",
    "    ax.set_title('Data')\n",
    "    ax.set(ylim=(0, 5))\n",
    "    ax.set(xlim=(0, 5))"
   ]
  },
  {
   "cell_type": "markdown",
   "metadata": {},
   "source": [
    "From the above plot we gater that the hypothesis is generally of the form:\n",
    "\n",
    "## $$ h_\\theta(x) = \\theta_0 + \\theta_1x_1 $$\n",
    "\n",
    "Furthermore its easy to see that it is actually:\n",
    "## $$ h_\\theta(x) = x $$\n",
    "\n",
    "And our thetas are: \n",
    "##$$   \\theta_0 = 0, \\theta_1 = 1 $$\n",
    "\n",
    "Now let's use the normal equation to confirm our belief. To begin we constructing the design matrix **X** and the target vector **y**."
   ]
  },
  {
   "cell_type": "code",
   "execution_count": 163,
   "metadata": {
    "collapsed": false
   },
   "outputs": [],
   "source": [
    "X = trainingData[['x0', 'x1']]\n",
    "y = trainingData[['y']]"
   ]
  },
  {
   "cell_type": "markdown",
   "metadata": {},
   "source": [
    "Next we transpose X, using a shorthand (T) for the pandas [transpose method](http://pandas.pydata.org/pandas-docs/stable/generated/pandas.DataFrame.transpose.html). Since we are transposing a 3x2 matrix we can expect to end up with a 2x3 matrix as a result.\n",
    "\n",
    "##$$ X^T $$"
   ]
  },
  {
   "cell_type": "code",
   "execution_count": 164,
   "metadata": {
    "collapsed": false
   },
   "outputs": [
    {
     "data": {
      "text/html": [
       "<div style=\"max-height:1000px;max-width:1500px;overflow:auto;\">\n",
       "<table border=\"1\" class=\"dataframe\">\n",
       "  <thead>\n",
       "    <tr style=\"text-align: right;\">\n",
       "      <th></th>\n",
       "      <th>0</th>\n",
       "      <th>1</th>\n",
       "      <th>2</th>\n",
       "    </tr>\n",
       "  </thead>\n",
       "  <tbody>\n",
       "    <tr>\n",
       "      <th>x0</th>\n",
       "      <td>1</td>\n",
       "      <td>1</td>\n",
       "      <td>1</td>\n",
       "    </tr>\n",
       "    <tr>\n",
       "      <th>x1</th>\n",
       "      <td>1</td>\n",
       "      <td>2</td>\n",
       "      <td>4</td>\n",
       "    </tr>\n",
       "  </tbody>\n",
       "</table>\n",
       "</div>"
      ],
      "text/plain": [
       "    0  1  2\n",
       "x0  1  1  1\n",
       "x1  1  2  4"
      ]
     },
     "execution_count": 164,
     "metadata": {},
     "output_type": "execute_result"
    }
   ],
   "source": [
    "X.T"
   ]
  },
  {
   "cell_type": "markdown",
   "metadata": {},
   "source": [
    "##Applying the Normal Equation\n",
    "\n",
    "Next we calculate X transpose multiplied by X. Since we are doing matrix multiplication, as opposed to scalar, we will need to use the [pandas DataFrame.dot() function](http://pandas.pydata.org/pandas-docs/dev/generated/pandas.DataFrame.dot.html) function.\n",
    "## $$ (X^TX) $$"
   ]
  },
  {
   "cell_type": "code",
   "execution_count": 165,
   "metadata": {
    "collapsed": false
   },
   "outputs": [
    {
     "data": {
      "text/html": [
       "<div style=\"max-height:1000px;max-width:1500px;overflow:auto;\">\n",
       "<table border=\"1\" class=\"dataframe\">\n",
       "  <thead>\n",
       "    <tr style=\"text-align: right;\">\n",
       "      <th></th>\n",
       "      <th>x0</th>\n",
       "      <th>x1</th>\n",
       "    </tr>\n",
       "  </thead>\n",
       "  <tbody>\n",
       "    <tr>\n",
       "      <th>x0</th>\n",
       "      <td>3</td>\n",
       "      <td>7</td>\n",
       "    </tr>\n",
       "    <tr>\n",
       "      <th>x1</th>\n",
       "      <td>7</td>\n",
       "      <td>21</td>\n",
       "    </tr>\n",
       "  </tbody>\n",
       "</table>\n",
       "</div>"
      ],
      "text/plain": [
       "    x0  x1\n",
       "x0   3   7\n",
       "x1   7  21"
      ]
     },
     "execution_count": 165,
     "metadata": {},
     "output_type": "execute_result"
    }
   ],
   "source": [
    "xTx = X.T.dot(X)\n",
    "xTx"
   ]
  },
  {
   "cell_type": "markdown",
   "metadata": {},
   "source": [
    "We then take the inverse of our product using the [numpy inverse function](http://docs.scipy.org/doc/numpy/reference/generated/numpy.linalg.inv.html)\n",
    "## $$ (X^TX)^{-1} $$"
   ]
  },
  {
   "cell_type": "code",
   "execution_count": 166,
   "metadata": {
    "collapsed": false
   },
   "outputs": [
    {
     "data": {
      "text/plain": [
       "array([[ 1.5       , -0.5       ],\n",
       "       [-0.5       ,  0.21428571]])"
      ]
     },
     "execution_count": 166,
     "metadata": {},
     "output_type": "execute_result"
    }
   ],
   "source": [
    "XtX = np.linalg.inv(xTx)\n",
    "XtX"
   ]
  },
  {
   "cell_type": "markdown",
   "metadata": {},
   "source": [
    "We multiply the inverse by the transpose of x, which we previously calculated.\n",
    "## $$ (X^TX)^{-1} X^T$$"
   ]
  },
  {
   "cell_type": "code",
   "execution_count": 167,
   "metadata": {
    "collapsed": false
   },
   "outputs": [
    {
     "data": {
      "text/plain": [
       "array([[ 1.        ,  0.5       , -0.5       ],\n",
       "       [-0.28571429, -0.07142857,  0.35714286]])"
      ]
     },
     "execution_count": 167,
     "metadata": {},
     "output_type": "execute_result"
    }
   ],
   "source": [
    "XtX_xT = XtX.dot(X.T)\n",
    "XtX_xT"
   ]
  },
  {
   "cell_type": "markdown",
   "metadata": {},
   "source": [
    "Finally we multiply the previous result by our target vector\n",
    "## $$ (X^TX)^{-1} X^T\\vec{y}$$"
   ]
  },
  {
   "cell_type": "code",
   "execution_count": 168,
   "metadata": {
    "collapsed": false
   },
   "outputs": [
    {
     "data": {
      "text/plain": [
       "array([[ 0.],\n",
       "       [ 1.]])"
      ]
     },
     "execution_count": 168,
     "metadata": {},
     "output_type": "execute_result"
    }
   ],
   "source": [
    "theta = XtX_xT.dot(y)\n",
    "theta"
   ]
  },
  {
   "cell_type": "markdown",
   "metadata": {
    "collapsed": true
   },
   "source": [
    "## Final Result\n",
    "\n",
    "##$$ \n",
    "\\begin{equation}\n",
    "     \\theta=\\begin{bmatrix}\n",
    "         0 \\\\\n",
    "         1 \\\\\n",
    "        \\end{bmatrix}\n",
    "  \\end{equation}\n",
    "  $$\n",
    "  \n",
    "We visually confirm our results with the a plot:"
   ]
  },
  {
   "cell_type": "code",
   "execution_count": 183,
   "metadata": {
    "collapsed": false
   },
   "outputs": [
    {
     "data": {
      "image/png": "[encoded data removed]",
      "text/plain": [
       "<matplotlib.figure.Figure at 0x11bd01f98>"
      ]
     },
     "metadata": {},
     "output_type": "display_data"
    }
   ],
   "source": [
    "hypothesis = [(x, theta[0] + x*theta[1]) for x in range(6)]\n",
    "\n",
    "with sns.axes_style(\"darkgrid\"):\n",
    "    fig, ax = plt.subplots()\n",
    "    ax.set_title('Linear Regression with the Normal Equation')\n",
    "    ax.plot(trainingData['x1'], trainingData['y'], 'o', label = 'data')\n",
    "    ax.plot([x for x in range(6)], hypothesis, 'k-', label = 'hypothesis')\n",
    "    ax.legend(['Data', 'Hypothesis'], loc='best')\n",
    "    ax.set(ylim=(0, 5))\n",
    "    ax.set(xlim=(0, 5))"
   ]
  }
 ],
 "metadata": {
  "kernelspec": {
   "display_name": "Python 3",
   "language": "python",
   "name": "python3"
  },
  "language_info": {
   "codemirror_mode": {
    "name": "ipython",
    "version": 3
   },
   "file_extension": ".py",
   "mimetype": "text/x-python",
   "name": "python",
   "nbconvert_exporter": "python",
   "pygments_lexer": "ipython3",
   "version": "3.4.3"
  }
 },
 "nbformat": 4,
 "nbformat_minor": 0
}
