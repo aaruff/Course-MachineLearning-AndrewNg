{
 "cells": [
  {
   "cell_type": "markdown",
   "metadata": {},
   "source": [
    "#The Linear Regression Cost Function in Matrix Form"
   ]
  },
  {
   "cell_type": "markdown",
   "metadata": {},
   "source": [
    "In this tutorial I will describe the implementation of the linear regression cost function in matrix form, with an example in Python with Numpy and Pandas.\n",
    "\n",
    "The squared error cost function is commonly described as:\n",
    "\n",
    " $$J(\\theta) = \\frac{1}{2m}\\sum{(h_{\\theta}(x^{(i)}) - y^{(i)})^2} $$\n",
    "\n",
    "The vectorized cost function is:\n",
    "\n",
    " $$ J(\\theta) = \\frac{1}{2m}\\vec{o}^{T}[(X\\vec{\\theta}-\\vec{y})^2] $$\n",
    "\n",
    "In order to explain how the vectorized cost function works lets use a simple abstract data set described below:\n",
    "\n",
    "$$ X = \\begin{bmatrix} 1 & x^1_1 \\\\ 1 & x^2_1 \\\\ 1 & x^3_1 \\end{bmatrix}, \\quad  \\vec{y} = \\begin{bmatrix} y^1_1 \\\\ y^2_1 \\\\ y^3_1 \\end{bmatrix}, \\quad \\vec{\\theta} = \\begin{bmatrix} \\theta_0 \\\\ \\theta_1 \\end{bmatrix}\n",
    "$$\n",
    "\n",
    "We will need one more vector to help us with our calculation:\n",
    "$$\\quad \\vec{o}^{T} =  \\begin{bmatrix} 1 & 1 & 1 \\end{bmatrix}$$"
   ]
  },
  {
   "cell_type": "markdown",
   "metadata": {},
   "source": [
    "## Vectorizing the Cost Function\n",
    "\n",
    "### Calculating the Hypothesis\n",
    "\n",
    "\n",
    "To produce the matrix representation of the hypothesis function the matrix X is multiplied by the theta column vector, the operation of which consists of multiplying the rows of X by the columns of y.\n",
    "\n",
    " $$ h_{\\theta}(x) = X\\vec{\\theta} = \\begin{bmatrix} 1 & x^1_1 \\\\ 1 & x^2_1 \\\\ 1 & x^3_1 \\end{bmatrix} \\begin{bmatrix} \\theta_0 \\\\ \\theta_1 \\end{bmatrix} = \\begin{bmatrix} \\theta_0 + \\theta_1x^1_1 \\\\ \\theta_0 + \\theta_1x^2_1 \\\\ \\theta_0 + \\theta_1x^3_1 \\end{bmatrix}  $$"
   ]
  },
  {
   "cell_type": "markdown",
   "metadata": {},
   "source": [
    "### Calculating the Errors\n",
    "\n",
    "To calculate the errors the elements of the target vector y is subtracted from the hypothesis vector.\n",
    "\n",
    " $$ \\vec{e} = X\\vec{\\theta} - \\vec{y} = \\begin{bmatrix} \\theta_0 + \\theta_1x^1_1 - y^1_1 \\\\ \\theta_0 + \\theta_1x^2_1 - y^2_1 \\\\ \\theta_0 + \\theta_1x^3_1 - y^3_1 \\end{bmatrix} $$\n",
    "\n",
    "\n",
    "### Calculating the Squared Errors\n",
    "To calculate the square of the errors an element wise squaring operation is performed.\n",
    "\n",
    " $$ \\vec{e}^2 = (X\\vec{\\theta} - \\vec{y})^2 =  \\begin{bmatrix} (\\theta_0 + \\theta_1x^1_1 - y^1_1)^2 \\\\ (\\theta_0 + \\theta_1x^2_1 - y^2_1)^2 \\\\ (\\theta_0 + \\theta_1x^3_1 - y^3_1)^2 \\end{bmatrix} $$\n",
    "\n",
    "Note: The square of the distance was performed element wise."
   ]
  },
  {
   "cell_type": "markdown",
   "metadata": {
    "collapsed": true
   },
   "source": [
    "### Calculating the Sum of the Squared Errors\n",
    "\n",
    "To sum the elements of the squared error vector a 1xm row vector (o) is multiplied by the squared error vector (e) to produce a 1x1 vector containing the sum of all the squared errors. \n",
    "\n",
    "$$ \\sum{(h_{\\theta}(x^{(i)}) - y^{(i)})^2} = \\vec{o}^T\\vec{e}^2  = \\vec{o}^T(X\\vec{\\theta} - \\vec{y})^2 = \\begin{bmatrix} 1 & 1 & 1 \\end{bmatrix} \\begin{bmatrix} (\\theta_0 + \\theta_1x^1_1 - y^1_1)^2 \\\\ (\\theta_0 + \\theta_1x^2_1 - y^2_1)^2 \\\\ (\\theta_0 + \\theta_1x^3_1 - y^3_1)^2 \\end{bmatrix} = \\begin{bmatrix} (\\theta_0 + \\theta_1x^1_1 - y^1_1)^2 + (\\theta_0 + \\theta_1x^2_1 - y^2_1)^2 + (\\theta_0 + \\theta_1x^3_1 - y^3_1)^2 \\end{bmatrix} $$\n",
    "\n",
    "\n",
    "###Calculating the Product of the Reciprocal 2m by the Squared Errors\n",
    "Finally to complete the cost function calculation the sum of the sqared errors is multiplied by the reciprocal of 2m.\n",
    "\n",
    "$$J(\\theta) = \\frac{1}{2m}\\sum{(h_{\\theta}(x^{(i)}) - y^{(i)})^2} =  \\frac{1}{2m}\\vec{o}^T(X\\vec{\\theta} - \\vec{y})^2 = \\begin{bmatrix} \\frac{1}{2m}(\\theta_0 + \\theta_1x^1_1 - y^1_1)^2 + \\frac{1}{2m}(\\theta_0 + \\theta_1x^2_1 - y^2_1)^2 + \\frac{1}{2m}(\\theta_0 + \\theta_1x^3_1 - y^3_1)^2 \\end{bmatrix} $$\n",
    "\n",
    "Thats it! Now lets put implement it in Python."
   ]
  },
  {
   "cell_type": "markdown",
   "metadata": {},
   "source": [
    "## Implementing the Cost Function in Python\n",
    "\n",
    "In this section we will impliment our vectorized for of the cost function with a simple (ok, contrived) dataset."
   ]
  },
  {
   "cell_type": "code",
   "execution_count": 64,
   "metadata": {
    "collapsed": true
   },
   "outputs": [],
   "source": [
    "#prologue\n",
    "import pandas as pd\n",
    "import numpy as np"
   ]
  },
  {
   "cell_type": "code",
   "execution_count": 65,
   "metadata": {
    "collapsed": false
   },
   "outputs": [
    {
     "data": {
      "text/html": [
       "<div style=\"max-height:1000px;max-width:1500px;overflow:auto;\">\n",
       "<table border=\"1\" class=\"dataframe\">\n",
       "  <thead>\n",
       "    <tr style=\"text-align: right;\">\n",
       "      <th></th>\n",
       "      <th>x0</th>\n",
       "      <th>x1</th>\n",
       "    </tr>\n",
       "  </thead>\n",
       "  <tbody>\n",
       "    <tr>\n",
       "      <th>0</th>\n",
       "      <td>1</td>\n",
       "      <td>1</td>\n",
       "    </tr>\n",
       "    <tr>\n",
       "      <th>1</th>\n",
       "      <td>1</td>\n",
       "      <td>2</td>\n",
       "    </tr>\n",
       "    <tr>\n",
       "      <th>2</th>\n",
       "      <td>1</td>\n",
       "      <td>5</td>\n",
       "    </tr>\n",
       "  </tbody>\n",
       "</table>\n",
       "</div>"
      ],
      "text/plain": [
       "   x0  x1\n",
       "0   1   1\n",
       "1   1   2\n",
       "2   1   5"
      ]
     },
     "execution_count": 65,
     "metadata": {},
     "output_type": "execute_result"
    }
   ],
   "source": [
    "X = pd.DataFrame({'x0' : pd.Series([1,1,1]), 'x1': pd.Series([1,2,5])})\n",
    "X"
   ]
  },
  {
   "cell_type": "code",
   "execution_count": 66,
   "metadata": {
    "collapsed": false
   },
   "outputs": [
    {
     "data": {
      "text/html": [
       "<div style=\"max-height:1000px;max-width:1500px;overflow:auto;\">\n",
       "<table border=\"1\" class=\"dataframe\">\n",
       "  <thead>\n",
       "    <tr style=\"text-align: right;\">\n",
       "      <th></th>\n",
       "      <th>y</th>\n",
       "    </tr>\n",
       "  </thead>\n",
       "  <tbody>\n",
       "    <tr>\n",
       "      <th>0</th>\n",
       "      <td>0</td>\n",
       "    </tr>\n",
       "    <tr>\n",
       "      <th>1</th>\n",
       "      <td>2</td>\n",
       "    </tr>\n",
       "    <tr>\n",
       "      <th>2</th>\n",
       "      <td>4</td>\n",
       "    </tr>\n",
       "  </tbody>\n",
       "</table>\n",
       "</div>"
      ],
      "text/plain": [
       "   y\n",
       "0  0\n",
       "1  2\n",
       "2  4"
      ]
     },
     "execution_count": 66,
     "metadata": {},
     "output_type": "execute_result"
    }
   ],
   "source": [
    "y = pd.DataFrame({'y' : pd.Series([0,2,4])})\n",
    "y"
   ]
  },
  {
   "cell_type": "markdown",
   "metadata": {},
   "source": [
    "### Calculate the Hypothesis\n",
    "\n",
    "To calculate our hypothesis we will first set theta to: $$ \\vec{\\theta} = \\begin{bmatrix} 0 \\\\ 1 \\end{bmatrix} $$\n",
    "\n",
    "and calculate: $$ h_{\\theta}(x) = X\\vec{\\theta} = \\begin{bmatrix} 0*1 + 1*1 \\\\ 0*1 + 1*2 \\\\ 0*1 + 1*5 \\end{bmatrix}  = \\begin{bmatrix} 1 \\\\ 2 \\\\ 5 \\end{bmatrix}  $$\n",
    "\n",
    "We can expect the product to result in a 3x1 matrix."
   ]
  },
  {
   "cell_type": "code",
   "execution_count": 67,
   "metadata": {
    "collapsed": false
   },
   "outputs": [
    {
     "data": {
      "text/html": [
       "<div style=\"max-height:1000px;max-width:1500px;overflow:auto;\">\n",
       "<table border=\"1\" class=\"dataframe\">\n",
       "  <thead>\n",
       "    <tr style=\"text-align: right;\">\n",
       "      <th></th>\n",
       "      <th>theta</th>\n",
       "    </tr>\n",
       "  </thead>\n",
       "  <tbody>\n",
       "    <tr>\n",
       "      <th>0</th>\n",
       "      <td>0</td>\n",
       "    </tr>\n",
       "    <tr>\n",
       "      <th>1</th>\n",
       "      <td>1</td>\n",
       "    </tr>\n",
       "  </tbody>\n",
       "</table>\n",
       "</div>"
      ],
      "text/plain": [
       "   theta\n",
       "0      0\n",
       "1      1"
      ]
     },
     "execution_count": 67,
     "metadata": {},
     "output_type": "execute_result"
    }
   ],
   "source": [
    "theta = pd.DataFrame({'theta' : pd.Series([0, 1])})\n",
    "theta"
   ]
  },
  {
   "cell_type": "code",
   "execution_count": 68,
   "metadata": {
    "collapsed": false
   },
   "outputs": [
    {
     "data": {
      "text/plain": [
       "array([[1],\n",
       "       [2],\n",
       "       [5]])"
      ]
     },
     "execution_count": 68,
     "metadata": {},
     "output_type": "execute_result"
    }
   ],
   "source": [
    "#Numpy .dot is used instead because the dataframe .dot function requires matching column names.\n",
    "xtheta = np.dot(X, theta)\n",
    "xtheta"
   ]
  },
  {
   "cell_type": "markdown",
   "metadata": {},
   "source": [
    " ### Calculating the Errors\n",
    " \n",
    " \n",
    " $$ \\vec{e} = X\\vec{\\theta} - \\vec{y} = \\begin{bmatrix} 1 \\\\ 2 \\\\ 5 \\end{bmatrix} - \\begin{bmatrix} 0 \\\\ 2 \\\\ 4 \\end{bmatrix} = \\begin{bmatrix} 1 \\\\ 0 \\\\ 1 \\end{bmatrix} $$"
   ]
  },
  {
   "cell_type": "code",
   "execution_count": 69,
   "metadata": {
    "collapsed": false
   },
   "outputs": [
    {
     "data": {
      "text/html": [
       "<div style=\"max-height:1000px;max-width:1500px;overflow:auto;\">\n",
       "<table border=\"1\" class=\"dataframe\">\n",
       "  <thead>\n",
       "    <tr style=\"text-align: right;\">\n",
       "      <th></th>\n",
       "      <th>y</th>\n",
       "    </tr>\n",
       "  </thead>\n",
       "  <tbody>\n",
       "    <tr>\n",
       "      <th>0</th>\n",
       "      <td>1</td>\n",
       "    </tr>\n",
       "    <tr>\n",
       "      <th>1</th>\n",
       "      <td>0</td>\n",
       "    </tr>\n",
       "    <tr>\n",
       "      <th>2</th>\n",
       "      <td>1</td>\n",
       "    </tr>\n",
       "  </tbody>\n",
       "</table>\n",
       "</div>"
      ],
      "text/plain": [
       "   y\n",
       "0  1\n",
       "1  0\n",
       "2  1"
      ]
     },
     "execution_count": 69,
     "metadata": {},
     "output_type": "execute_result"
    }
   ],
   "source": [
    "errors = xtheta - y\n",
    "errors"
   ]
  },
  {
   "cell_type": "markdown",
   "metadata": {},
   "source": [
    " ### Calculating the Squared Errrors\n",
    "\n",
    "$$ \\vec{e}^2 = \\begin{bmatrix} 1^2 \\\\ 0 \\\\ 1^2 \\end{bmatrix} = \\begin{bmatrix} 1 \\\\ 0 \\\\ 1 \\end{bmatrix} $$"
   ]
  },
  {
   "cell_type": "code",
   "execution_count": 70,
   "metadata": {
    "collapsed": false
   },
   "outputs": [
    {
     "data": {
      "text/html": [
       "<div style=\"max-height:1000px;max-width:1500px;overflow:auto;\">\n",
       "<table border=\"1\" class=\"dataframe\">\n",
       "  <thead>\n",
       "    <tr style=\"text-align: right;\">\n",
       "      <th></th>\n",
       "      <th>y</th>\n",
       "    </tr>\n",
       "  </thead>\n",
       "  <tbody>\n",
       "    <tr>\n",
       "      <th>0</th>\n",
       "      <td>1</td>\n",
       "    </tr>\n",
       "    <tr>\n",
       "      <th>1</th>\n",
       "      <td>0</td>\n",
       "    </tr>\n",
       "    <tr>\n",
       "      <th>2</th>\n",
       "      <td>1</td>\n",
       "    </tr>\n",
       "  </tbody>\n",
       "</table>\n",
       "</div>"
      ],
      "text/plain": [
       "   y\n",
       "0  1\n",
       "1  0\n",
       "2  1"
      ]
     },
     "execution_count": 70,
     "metadata": {},
     "output_type": "execute_result"
    }
   ],
   "source": [
    "errorsSquared = errors**2\n",
    "errorsSquared"
   ]
  },
  {
   "cell_type": "markdown",
   "metadata": {},
   "source": [
    "### Summing the Errors\n",
    "\n",
    "To sum the error vector we multiply it by a column vector of ones. The multiplication results in the row elements of ones being multiplied and summed by column vector of errors, resulting in the sum of squared errors.\n",
    "\n",
    "$$ \\vec{s} = \\sum{(h_{\\theta}(x^{(i)}) - y^{(i)})^2} = \\vec{o}^T\\vec{e}^2 = \\begin{bmatrix} 1 & 1 & 1 \\end{bmatrix} \\begin{bmatrix} 1 \\\\ 0 \\\\ 1 \\end{bmatrix}= \\begin{bmatrix} 1 + 0 + 1 \\end{bmatrix} = \\begin{bmatrix} 2\\end{bmatrix} $$"
   ]
  },
  {
   "cell_type": "code",
   "execution_count": 71,
   "metadata": {
    "collapsed": false
   },
   "outputs": [
    {
     "data": {
      "text/html": [
       "<div style=\"max-height:1000px;max-width:1500px;overflow:auto;\">\n",
       "<table border=\"1\" class=\"dataframe\">\n",
       "  <thead>\n",
       "    <tr style=\"text-align: right;\">\n",
       "      <th></th>\n",
       "      <th>ones</th>\n",
       "    </tr>\n",
       "  </thead>\n",
       "  <tbody>\n",
       "    <tr>\n",
       "      <th>0</th>\n",
       "      <td>1</td>\n",
       "    </tr>\n",
       "    <tr>\n",
       "      <th>1</th>\n",
       "      <td>1</td>\n",
       "    </tr>\n",
       "    <tr>\n",
       "      <th>2</th>\n",
       "      <td>1</td>\n",
       "    </tr>\n",
       "  </tbody>\n",
       "</table>\n",
       "</div>"
      ],
      "text/plain": [
       "   ones\n",
       "0     1\n",
       "1     1\n",
       "2     1"
      ]
     },
     "execution_count": 71,
     "metadata": {},
     "output_type": "execute_result"
    }
   ],
   "source": [
    "ones = pd.DataFrame({'ones':np.ones(3)})\n",
    "ones"
   ]
  },
  {
   "cell_type": "code",
   "execution_count": 72,
   "metadata": {
    "collapsed": false
   },
   "outputs": [
    {
     "data": {
      "text/plain": [
       "array([[ 2.]])"
      ]
     },
     "execution_count": 72,
     "metadata": {},
     "output_type": "execute_result"
    }
   ],
   "source": [
    "sumSquaredErrors = np.dot(ones.T, errorsSquared)\n",
    "sumSquaredErrors"
   ]
  },
  {
   "cell_type": "markdown",
   "metadata": {},
   "source": [
    "### Multiplying the Sum of the Errors by the Reciprocal of 2m\n",
    "\n",
    "Finally a reciprocal of 2m is multiplied by the sum of the squared result resulting in the cost for the chosen set of thetas.\n",
    "\n",
    "$$ J(\\theta) = \\frac{1}{2m}\\sum{(h_{\\theta}(x^{(i)}) - y^{(i)})^2} = \\frac{1}{2*3}\\vec{s} = \\frac{1}{6}\\begin{bmatrix} 2\\end{bmatrix} = \\begin{bmatrix} \\frac{1}{3}\\end{bmatrix} $$"
   ]
  },
  {
   "cell_type": "code",
   "execution_count": 73,
   "metadata": {
    "collapsed": false
   },
   "outputs": [
    {
     "data": {
      "text/plain": [
       "array([[ 0.33333333]])"
      ]
     },
     "execution_count": 73,
     "metadata": {},
     "output_type": "execute_result"
    }
   ],
   "source": [
    "error = sumSquaredErrors/(2*3)\n",
    "error"
   ]
  },
  {
   "cell_type": "markdown",
   "metadata": {},
   "source": [
    "As expected the result is a one dimensional matrix containing one third."
   ]
  }
 ],
 "metadata": {
  "kernelspec": {
   "display_name": "Python 3",
   "language": "python",
   "name": "python3"
  },
  "language_info": {
   "codemirror_mode": {
    "name": "ipython",
    "version": 3
   },
   "file_extension": ".py",
   "mimetype": "text/x-python",
   "name": "python",
   "nbconvert_exporter": "python",
   "pygments_lexer": "ipython3",
   "version": "3.4.3"
  }
 },
 "nbformat": 4,
 "nbformat_minor": 0
}
